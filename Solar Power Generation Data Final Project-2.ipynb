{
 "cells": [
  {
   "cell_type": "code",
   "execution_count": 10,
   "metadata": {},
   "outputs": [],
   "source": [
    "from sklearn.model_selection import train_test_split\n",
    "from sklearn.metrics import accuracy_score\n",
    "from sklearn.utils import resample\n",
    "from sklearn import preprocessing\n",
    "from sklearn.linear_model import LogisticRegression\n",
    "from sklearn.ensemble import RandomForestClassifier\n",
    "from sklearn.linear_model import LinearRegression\n",
    "from sklearn.metrics import mean_absolute_error\n",
    "import pandas as pd\n"
   ]
  },
  {
   "cell_type": "code",
   "execution_count": 11,
   "metadata": {},
   "outputs": [],
   "source": [
    "#CSV data from keggle 4 files\n",
    "plant1_Gen = pd.read_csv('https://github.com/Mcristina1203/Data-Science-Final/raw/master/Plant_1_Generation_Data.csv')\n",
    "\n"
   ]
  },
  {
   "cell_type": "code",
   "execution_count": 12,
   "metadata": {},
   "outputs": [],
   "source": [
    "plant2_Gen = pd.read_csv('https://github.com/Mcristina1203/Data-Science-Final/raw/master/Plant_2_Generation_Data.csv')"
   ]
  },
  {
   "cell_type": "code",
   "execution_count": 13,
   "metadata": {},
   "outputs": [],
   "source": [
    "plant1_W = pd.read_csv('https://github.com/Mcristina1203/Data-Science-Final/raw/master/Plant_1_Weather_Sensor_Data.csv')"
   ]
  },
  {
   "cell_type": "code",
   "execution_count": 14,
   "metadata": {},
   "outputs": [],
   "source": [
    "plant2_W = pd.read_csv('https://github.com/Mcristina1203/Data-Science-Final/raw/master/Plant_2_Weather_Sensor_Data.csv')"
   ]
  },
  {
   "cell_type": "code",
   "execution_count": 15,
   "metadata": {},
   "outputs": [
    {
     "data": {
      "text/html": [
       "<div>\n",
       "<style scoped>\n",
       "    .dataframe tbody tr th:only-of-type {\n",
       "        vertical-align: middle;\n",
       "    }\n",
       "\n",
       "    .dataframe tbody tr th {\n",
       "        vertical-align: top;\n",
       "    }\n",
       "\n",
       "    .dataframe thead th {\n",
       "        text-align: right;\n",
       "    }\n",
       "</style>\n",
       "<table border=\"1\" class=\"dataframe\">\n",
       "  <thead>\n",
       "    <tr style=\"text-align: right;\">\n",
       "      <th></th>\n",
       "      <th>DATE_TIME</th>\n",
       "      <th>PLANT_ID</th>\n",
       "      <th>SOURCE_KEY</th>\n",
       "      <th>DC_POWER</th>\n",
       "      <th>AC_POWER</th>\n",
       "      <th>DAILY_YIELD</th>\n",
       "      <th>TOTAL_YIELD</th>\n",
       "    </tr>\n",
       "  </thead>\n",
       "  <tbody>\n",
       "    <tr>\n",
       "      <th>0</th>\n",
       "      <td>15-05-2020 00:00</td>\n",
       "      <td>4135001</td>\n",
       "      <td>1BY6WEcLGh8j5v7</td>\n",
       "      <td>0.0</td>\n",
       "      <td>0.0</td>\n",
       "      <td>0.0</td>\n",
       "      <td>6259559.0</td>\n",
       "    </tr>\n",
       "    <tr>\n",
       "      <th>20</th>\n",
       "      <td>15-05-2020 00:00</td>\n",
       "      <td>4135001</td>\n",
       "      <td>zVJPv84UY57bAof</td>\n",
       "      <td>0.0</td>\n",
       "      <td>0.0</td>\n",
       "      <td>0.0</td>\n",
       "      <td>7116151.0</td>\n",
       "    </tr>\n",
       "    <tr>\n",
       "      <th>40</th>\n",
       "      <td>15-05-2020 00:15</td>\n",
       "      <td>4135001</td>\n",
       "      <td>zBIq5rxdHJRwDNY</td>\n",
       "      <td>0.0</td>\n",
       "      <td>0.0</td>\n",
       "      <td>0.0</td>\n",
       "      <td>6339380.0</td>\n",
       "    </tr>\n",
       "    <tr>\n",
       "      <th>60</th>\n",
       "      <td>15-05-2020 00:30</td>\n",
       "      <td>4135001</td>\n",
       "      <td>z9Y9gH1T5YWrNuG</td>\n",
       "      <td>0.0</td>\n",
       "      <td>0.0</td>\n",
       "      <td>0.0</td>\n",
       "      <td>7007866.0</td>\n",
       "    </tr>\n",
       "    <tr>\n",
       "      <th>80</th>\n",
       "      <td>15-05-2020 00:45</td>\n",
       "      <td>4135001</td>\n",
       "      <td>wCURE6d3bPkepu2</td>\n",
       "      <td>0.0</td>\n",
       "      <td>0.0</td>\n",
       "      <td>0.0</td>\n",
       "      <td>6782598.0</td>\n",
       "    </tr>\n",
       "    <tr>\n",
       "      <th>...</th>\n",
       "      <td>...</td>\n",
       "      <td>...</td>\n",
       "      <td>...</td>\n",
       "      <td>...</td>\n",
       "      <td>...</td>\n",
       "      <td>...</td>\n",
       "      <td>...</td>\n",
       "    </tr>\n",
       "    <tr>\n",
       "      <th>68680</th>\n",
       "      <td>17-06-2020 22:45</td>\n",
       "      <td>4135001</td>\n",
       "      <td>iCRJl6heRkivqQ3</td>\n",
       "      <td>0.0</td>\n",
       "      <td>0.0</td>\n",
       "      <td>5957.0</td>\n",
       "      <td>7426263.0</td>\n",
       "    </tr>\n",
       "    <tr>\n",
       "      <th>68700</th>\n",
       "      <td>17-06-2020 23:00</td>\n",
       "      <td>4135001</td>\n",
       "      <td>adLQvlD726eNBSB</td>\n",
       "      <td>0.0</td>\n",
       "      <td>0.0</td>\n",
       "      <td>6110.0</td>\n",
       "      <td>6524508.0</td>\n",
       "    </tr>\n",
       "    <tr>\n",
       "      <th>68720</th>\n",
       "      <td>17-06-2020 23:15</td>\n",
       "      <td>4135001</td>\n",
       "      <td>ZnxXDlPa8U1GXgE</td>\n",
       "      <td>0.0</td>\n",
       "      <td>0.0</td>\n",
       "      <td>5929.0</td>\n",
       "      <td>6770737.0</td>\n",
       "    </tr>\n",
       "    <tr>\n",
       "      <th>68740</th>\n",
       "      <td>17-06-2020 23:30</td>\n",
       "      <td>4135001</td>\n",
       "      <td>WRmjgnKYAwPKWDb</td>\n",
       "      <td>0.0</td>\n",
       "      <td>0.0</td>\n",
       "      <td>5953.0</td>\n",
       "      <td>7273532.0</td>\n",
       "    </tr>\n",
       "    <tr>\n",
       "      <th>68760</th>\n",
       "      <td>17-06-2020 23:45</td>\n",
       "      <td>4135001</td>\n",
       "      <td>McdE0feGgRqW7Ca</td>\n",
       "      <td>0.0</td>\n",
       "      <td>0.0</td>\n",
       "      <td>5992.0</td>\n",
       "      <td>7408587.0</td>\n",
       "    </tr>\n",
       "  </tbody>\n",
       "</table>\n",
       "<p>3439 rows × 7 columns</p>\n",
       "</div>"
      ],
      "text/plain": [
       "              DATE_TIME  PLANT_ID       SOURCE_KEY  DC_POWER  AC_POWER  \\\n",
       "0      15-05-2020 00:00   4135001  1BY6WEcLGh8j5v7       0.0       0.0   \n",
       "20     15-05-2020 00:00   4135001  zVJPv84UY57bAof       0.0       0.0   \n",
       "40     15-05-2020 00:15   4135001  zBIq5rxdHJRwDNY       0.0       0.0   \n",
       "60     15-05-2020 00:30   4135001  z9Y9gH1T5YWrNuG       0.0       0.0   \n",
       "80     15-05-2020 00:45   4135001  wCURE6d3bPkepu2       0.0       0.0   \n",
       "...                 ...       ...              ...       ...       ...   \n",
       "68680  17-06-2020 22:45   4135001  iCRJl6heRkivqQ3       0.0       0.0   \n",
       "68700  17-06-2020 23:00   4135001  adLQvlD726eNBSB       0.0       0.0   \n",
       "68720  17-06-2020 23:15   4135001  ZnxXDlPa8U1GXgE       0.0       0.0   \n",
       "68740  17-06-2020 23:30   4135001  WRmjgnKYAwPKWDb       0.0       0.0   \n",
       "68760  17-06-2020 23:45   4135001  McdE0feGgRqW7Ca       0.0       0.0   \n",
       "\n",
       "       DAILY_YIELD  TOTAL_YIELD  \n",
       "0              0.0    6259559.0  \n",
       "20             0.0    7116151.0  \n",
       "40             0.0    6339380.0  \n",
       "60             0.0    7007866.0  \n",
       "80             0.0    6782598.0  \n",
       "...            ...          ...  \n",
       "68680       5957.0    7426263.0  \n",
       "68700       6110.0    6524508.0  \n",
       "68720       5929.0    6770737.0  \n",
       "68740       5953.0    7273532.0  \n",
       "68760       5992.0    7408587.0  \n",
       "\n",
       "[3439 rows x 7 columns]"
      ]
     },
     "execution_count": 15,
     "metadata": {},
     "output_type": "execute_result"
    }
   ],
   "source": [
    "plant1_Gen[0::20]"
   ]
  },
  {
   "cell_type": "code",
   "execution_count": 16,
   "metadata": {},
   "outputs": [
    {
     "data": {
      "text/html": [
       "<div>\n",
       "<style scoped>\n",
       "    .dataframe tbody tr th:only-of-type {\n",
       "        vertical-align: middle;\n",
       "    }\n",
       "\n",
       "    .dataframe tbody tr th {\n",
       "        vertical-align: top;\n",
       "    }\n",
       "\n",
       "    .dataframe thead th {\n",
       "        text-align: right;\n",
       "    }\n",
       "</style>\n",
       "<table border=\"1\" class=\"dataframe\">\n",
       "  <thead>\n",
       "    <tr style=\"text-align: right;\">\n",
       "      <th></th>\n",
       "      <th>DATE_TIME</th>\n",
       "      <th>PLANT_ID</th>\n",
       "      <th>SOURCE_KEY</th>\n",
       "      <th>AMBIENT_TEMPERATURE</th>\n",
       "      <th>MODULE_TEMPERATURE</th>\n",
       "      <th>IRRADIATION</th>\n",
       "    </tr>\n",
       "  </thead>\n",
       "  <tbody>\n",
       "    <tr>\n",
       "      <th>0</th>\n",
       "      <td>2020-05-15 00:00:00</td>\n",
       "      <td>4135001</td>\n",
       "      <td>HmiyD2TTLFNqkNe</td>\n",
       "      <td>25.184316</td>\n",
       "      <td>22.857507</td>\n",
       "      <td>0.000000</td>\n",
       "    </tr>\n",
       "    <tr>\n",
       "      <th>20</th>\n",
       "      <td>2020-05-15 05:00:00</td>\n",
       "      <td>4135001</td>\n",
       "      <td>HmiyD2TTLFNqkNe</td>\n",
       "      <td>24.177106</td>\n",
       "      <td>22.551908</td>\n",
       "      <td>0.000000</td>\n",
       "    </tr>\n",
       "    <tr>\n",
       "      <th>40</th>\n",
       "      <td>2020-05-15 10:00:00</td>\n",
       "      <td>4135001</td>\n",
       "      <td>HmiyD2TTLFNqkNe</td>\n",
       "      <td>28.632192</td>\n",
       "      <td>52.547736</td>\n",
       "      <td>0.670675</td>\n",
       "    </tr>\n",
       "    <tr>\n",
       "      <th>60</th>\n",
       "      <td>2020-05-15 15:00:00</td>\n",
       "      <td>4135001</td>\n",
       "      <td>HmiyD2TTLFNqkNe</td>\n",
       "      <td>33.890576</td>\n",
       "      <td>46.029081</td>\n",
       "      <td>0.398889</td>\n",
       "    </tr>\n",
       "    <tr>\n",
       "      <th>80</th>\n",
       "      <td>2020-05-15 20:00:00</td>\n",
       "      <td>4135001</td>\n",
       "      <td>HmiyD2TTLFNqkNe</td>\n",
       "      <td>22.663180</td>\n",
       "      <td>20.290726</td>\n",
       "      <td>0.000000</td>\n",
       "    </tr>\n",
       "    <tr>\n",
       "      <th>...</th>\n",
       "      <td>...</td>\n",
       "      <td>...</td>\n",
       "      <td>...</td>\n",
       "      <td>...</td>\n",
       "      <td>...</td>\n",
       "      <td>...</td>\n",
       "    </tr>\n",
       "    <tr>\n",
       "      <th>3100</th>\n",
       "      <td>2020-06-17 03:30:00</td>\n",
       "      <td>4135001</td>\n",
       "      <td>HmiyD2TTLFNqkNe</td>\n",
       "      <td>22.771295</td>\n",
       "      <td>22.362781</td>\n",
       "      <td>0.000000</td>\n",
       "    </tr>\n",
       "    <tr>\n",
       "      <th>3120</th>\n",
       "      <td>2020-06-17 08:30:00</td>\n",
       "      <td>4135001</td>\n",
       "      <td>HmiyD2TTLFNqkNe</td>\n",
       "      <td>24.255999</td>\n",
       "      <td>32.832243</td>\n",
       "      <td>0.275448</td>\n",
       "    </tr>\n",
       "    <tr>\n",
       "      <th>3140</th>\n",
       "      <td>2020-06-17 13:30:00</td>\n",
       "      <td>4135001</td>\n",
       "      <td>HmiyD2TTLFNqkNe</td>\n",
       "      <td>28.954923</td>\n",
       "      <td>44.689929</td>\n",
       "      <td>0.659398</td>\n",
       "    </tr>\n",
       "    <tr>\n",
       "      <th>3160</th>\n",
       "      <td>2020-06-17 18:30:00</td>\n",
       "      <td>4135001</td>\n",
       "      <td>HmiyD2TTLFNqkNe</td>\n",
       "      <td>23.840239</td>\n",
       "      <td>22.968658</td>\n",
       "      <td>0.007007</td>\n",
       "    </tr>\n",
       "    <tr>\n",
       "      <th>3180</th>\n",
       "      <td>2020-06-17 23:30:00</td>\n",
       "      <td>4135001</td>\n",
       "      <td>HmiyD2TTLFNqkNe</td>\n",
       "      <td>21.969495</td>\n",
       "      <td>20.734963</td>\n",
       "      <td>0.000000</td>\n",
       "    </tr>\n",
       "  </tbody>\n",
       "</table>\n",
       "<p>160 rows × 6 columns</p>\n",
       "</div>"
      ],
      "text/plain": [
       "                DATE_TIME  PLANT_ID       SOURCE_KEY  AMBIENT_TEMPERATURE  \\\n",
       "0     2020-05-15 00:00:00   4135001  HmiyD2TTLFNqkNe            25.184316   \n",
       "20    2020-05-15 05:00:00   4135001  HmiyD2TTLFNqkNe            24.177106   \n",
       "40    2020-05-15 10:00:00   4135001  HmiyD2TTLFNqkNe            28.632192   \n",
       "60    2020-05-15 15:00:00   4135001  HmiyD2TTLFNqkNe            33.890576   \n",
       "80    2020-05-15 20:00:00   4135001  HmiyD2TTLFNqkNe            22.663180   \n",
       "...                   ...       ...              ...                  ...   \n",
       "3100  2020-06-17 03:30:00   4135001  HmiyD2TTLFNqkNe            22.771295   \n",
       "3120  2020-06-17 08:30:00   4135001  HmiyD2TTLFNqkNe            24.255999   \n",
       "3140  2020-06-17 13:30:00   4135001  HmiyD2TTLFNqkNe            28.954923   \n",
       "3160  2020-06-17 18:30:00   4135001  HmiyD2TTLFNqkNe            23.840239   \n",
       "3180  2020-06-17 23:30:00   4135001  HmiyD2TTLFNqkNe            21.969495   \n",
       "\n",
       "      MODULE_TEMPERATURE  IRRADIATION  \n",
       "0              22.857507     0.000000  \n",
       "20             22.551908     0.000000  \n",
       "40             52.547736     0.670675  \n",
       "60             46.029081     0.398889  \n",
       "80             20.290726     0.000000  \n",
       "...                  ...          ...  \n",
       "3100           22.362781     0.000000  \n",
       "3120           32.832243     0.275448  \n",
       "3140           44.689929     0.659398  \n",
       "3160           22.968658     0.007007  \n",
       "3180           20.734963     0.000000  \n",
       "\n",
       "[160 rows x 6 columns]"
      ]
     },
     "execution_count": 16,
     "metadata": {},
     "output_type": "execute_result"
    }
   ],
   "source": [
    "plant1_W[0::20]"
   ]
  },
  {
   "cell_type": "code",
   "execution_count": 17,
   "metadata": {
    "scrolled": false
   },
   "outputs": [
    {
     "ename": "NameError",
     "evalue": "name 'x' is not defined",
     "output_type": "error",
     "traceback": [
      "\u001b[0;31m---------------------------------------------------------------------------\u001b[0m",
      "\u001b[0;31mNameError\u001b[0m                                 Traceback (most recent call last)",
      "\u001b[0;32m<ipython-input-17-8fdc49b21855>\u001b[0m in \u001b[0;36m<module>\u001b[0;34m\u001b[0m\n\u001b[0;32m----> 1\u001b[0;31m \u001b[0mx_train\u001b[0m\u001b[0;34m,\u001b[0m \u001b[0mx_test\u001b[0m\u001b[0;34m,\u001b[0m \u001b[0my_train\u001b[0m\u001b[0;34m,\u001b[0m \u001b[0my_test\u001b[0m \u001b[0;34m=\u001b[0m \u001b[0mtrain_test_split\u001b[0m\u001b[0;34m(\u001b[0m\u001b[0mx\u001b[0m\u001b[0;34m,\u001b[0m \u001b[0my\u001b[0m\u001b[0;34m,\u001b[0m \u001b[0mtest_size\u001b[0m\u001b[0;34m=\u001b[0m\u001b[0;36m0.25\u001b[0m\u001b[0;34m,\u001b[0m \u001b[0mrandom_state\u001b[0m\u001b[0;34m=\u001b[0m\u001b[0;36m3\u001b[0m\u001b[0;34m)\u001b[0m\u001b[0;34m\u001b[0m\u001b[0;34m\u001b[0m\u001b[0m\n\u001b[0m",
      "\u001b[0;31mNameError\u001b[0m: name 'x' is not defined"
     ]
    }
   ],
   "source": [
    "x_train, x_test, y_train, y_test = train_test_split(x, y, test_size=0.25, random_state=3)"
   ]
  },
  {
   "cell_type": "code",
   "execution_count": 18,
   "metadata": {},
   "outputs": [
    {
     "name": "stdout",
     "output_type": "stream",
     "text": [
      "(2068, 4)\n",
      "(2068,)\n",
      "(1114, 4)\n",
      "(1114,)\n"
     ]
    }
   ],
   "source": [
    "features = [\n",
    "    'DATE_TIME',\n",
    "    'PLANT_ID', \n",
    "    'AMBIENT_TEMPERATURE',\n",
    "    'MODULE_TEMPERATURE'\n",
    "    \n",
    "]\n",
    "x = plant1_W[features]\n",
    "y = plant1_W['IRRADIATION']\n",
    "x_train, x_test, y_train, y_test = train_test_split(x, y, test_size=0.35, random_state=3)\n",
    "\n",
    "print(x_train.shape)\n",
    "print(y_train.shape)\n",
    "\n",
    "\n",
    "print(x_test.shape)\n",
    "print(y_test.shape)\n"
   ]
  },
  {
   "cell_type": "code",
   "execution_count": 19,
   "metadata": {},
   "outputs": [
    {
     "name": "stdout",
     "output_type": "stream",
     "text": [
      "(44705, 6)\n",
      "(44705,)\n",
      "(24073, 6)\n",
      "(24073,)\n"
     ]
    }
   ],
   "source": [
    "features = [\n",
    "    'DATE_TIME',\n",
    "    'PLANT_ID', \n",
    "    'SOURCE_KEY',\n",
    "    'DC_POWER', \n",
    "    'AC_POWER', \n",
    "    'DAILY_YIELD'\n",
    "    \n",
    "]\n",
    "x = plant1_Gen[features]\n",
    "y = plant1_Gen['TOTAL_YIELD']\n",
    "x_train, x_test, y_train, y_test = train_test_split(x, y, test_size=0.35, random_state=3)\n",
    "\n",
    "print(x_train.shape)\n",
    "print(y_train.shape)\n",
    "\n",
    "\n",
    "print(x_test.shape)\n",
    "print(y_test.shape)"
   ]
  },
  {
   "cell_type": "code",
   "execution_count": 20,
   "metadata": {},
   "outputs": [],
   "source": [
    "logreg = LogisticRegression(solver='liblinear', multi_class='auto')"
   ]
  },
  {
   "cell_type": "code",
   "execution_count": 21,
   "metadata": {
    "scrolled": true
   },
   "outputs": [],
   "source": [
    "x_train, x_test, y_train, y_test = train_test_split(x, y, test_size=45, random_state=32)\n"
   ]
  },
  {
   "cell_type": "code",
   "execution_count": 22,
   "metadata": {},
   "outputs": [],
   "source": [
    "my_RandomForest = RandomForestClassifier(n_estimators = 19, bootstrap = True, random_state=2)"
   ]
  },
  {
   "cell_type": "code",
   "execution_count": 23,
   "metadata": {},
   "outputs": [],
   "source": [
    "\n",
    "def predict(x_train, y_train, x_test, model):\n",
    "    model.fit(x_train, y_train)\n",
    "    return model.predict(x_test)\n",
    "\n",
    "def predictProb(x_train, y_train, x_test, model):\n",
    "    model.fit(x_train, y_train)\n",
    "    return model.predict_proba(x_test)"
   ]
  },
  {
   "cell_type": "code",
   "execution_count": 24,
   "metadata": {},
   "outputs": [],
   "source": [
    "def accuracy(x_train, y_train, x_test, y_test, model_tuples):\n",
    "    \"\"\"\n",
    "    model_tuples -> [('model description', model_object),...]\n",
    "    \"\"\"\n",
    "    _dict = {desc: accuracy_score(y_test, predict(x_train, y_train, x_test, model)) for (desc, model) in model_tuples}\n",
    "    df = pd.DataFrame()\n",
    "    df['Model'], df['Accuracy'] = _dict.keys(), _dict.values()\n",
    "    return df\n",
    "\n",
    "def computeROCmatrics(y_test, y_predict_prob, positive_label=1):\n",
    "    \"\"\"\n",
    "    return -> (fpr, tpr, AUC, thresholds)\n",
    "    \"\"\"\n",
    "    fpr, tpr, thresholds = metrics.roc_curve(y_test, y_predict_prob[:,positive_label-1], pos_label=positive_label)\n",
    "    AUC = metrics.auc(fpr, tpr)\n",
    "    return (fpr, tpr, AUC, thresholds)"
   ]
  },
  {
   "cell_type": "code",
   "execution_count": 25,
   "metadata": {},
   "outputs": [
    {
     "data": {
      "text/plain": [
       "<matplotlib.axes._subplots.AxesSubplot at 0x7fa0fa413700>"
      ]
     },
     "execution_count": 25,
     "metadata": {},
     "output_type": "execute_result"
    },
    {
     "data": {
      "image/png": "[encoded data removed]",
      "text/plain": [
       "<Figure size 432x288 with 1 Axes>"
      ]
     },
     "metadata": {
      "needs_background": "light"
     },
     "output_type": "display_data"
    }
   ],
   "source": [
    "#Plant 1\n",
    "plant1_W.plot(kind='scatter',x='AMBIENT_TEMPERATURE',y='MODULE_TEMPERATURE',color='blue')"
   ]
  },
  {
   "cell_type": "code",
   "execution_count": 26,
   "metadata": {},
   "outputs": [
    {
     "data": {
      "text/plain": [
       "<matplotlib.axes._subplots.AxesSubplot at 0x7fa0fa4fd7c0>"
      ]
     },
     "execution_count": 26,
     "metadata": {},
     "output_type": "execute_result"
    },
    {
     "data": {
      "image/png": "[encoded data removed]",
      "text/plain": [
       "<Figure size 432x288 with 1 Axes>"
      ]
     },
     "metadata": {
      "needs_background": "light"
     },
     "output_type": "display_data"
    }
   ],
   "source": [
    "plant1_W.plot(kind='scatter',x='MODULE_TEMPERATURE',y='IRRADIATION',color='blue')"
   ]
  },
  {
   "cell_type": "code",
   "execution_count": 27,
   "metadata": {},
   "outputs": [
    {
     "data": {
      "text/plain": [
       "<matplotlib.axes._subplots.AxesSubplot at 0x7fa0c8995970>"
      ]
     },
     "execution_count": 27,
     "metadata": {},
     "output_type": "execute_result"
    },
    {
     "data": {
      "image/png": "[encoded data removed]",
      "text/plain": [
       "<Figure size 432x288 with 1 Axes>"
      ]
     },
     "metadata": {
      "needs_background": "light"
     },
     "output_type": "display_data"
    }
   ],
   "source": [
    "#Plant 2\n",
    "plant2_W.plot(kind='scatter',x='AMBIENT_TEMPERATURE',y='MODULE_TEMPERATURE',color='blue')"
   ]
  },
  {
   "cell_type": "code",
   "execution_count": 28,
   "metadata": {},
   "outputs": [
    {
     "data": {
      "text/plain": [
       "<matplotlib.axes._subplots.AxesSubplot at 0x7fa0d8468040>"
      ]
     },
     "execution_count": 28,
     "metadata": {},
     "output_type": "execute_result"
    },
    {
     "data": {
      "image/png": "[encoded data removed]",
      "text/plain": [
       "<Figure size 432x288 with 1 Axes>"
      ]
     },
     "metadata": {
      "needs_background": "light"
     },
     "output_type": "display_data"
    }
   ],
   "source": [
    "plant2_W.plot(kind='scatter',x='MODULE_TEMPERATURE',y='IRRADIATION',color='blue')\n"
   ]
  },
  {
   "cell_type": "code",
   "execution_count": 29,
   "metadata": {},
   "outputs": [],
   "source": [
    "#Conclusion Plant 2 has weaker ambient temperature and module temperature \n",
    "# The Ambient temperature raises module temperature and affects DC and AC power by solar power generator.\n",
    "# In order to predict the cleaning and maintenance we have to train it on linear regression model for plant 2 data\n",
    "# use plant 2\n",
    "\n",
    "x_train, y_train = plant1_W[['AMBIENT_TEMPERATURE']], plant1_W['MODULE_TEMPERATURE']"
   ]
  },
  {
   "cell_type": "code",
   "execution_count": 30,
   "metadata": {},
   "outputs": [
    {
     "data": {
      "text/plain": [
       "LinearRegression()"
      ]
     },
     "execution_count": 30,
     "metadata": {},
     "output_type": "execute_result"
    }
   ],
   "source": [
    "linear_model = LinearRegression()\n",
    "linear_model.fit(x_train, y_train)"
   ]
  },
  {
   "cell_type": "code",
   "execution_count": 31,
   "metadata": {},
   "outputs": [],
   "source": [
    "x_test, y_test = plant2_W[['AMBIENT_TEMPERATURE']], plant2_W['MODULE_TEMPERATURE']"
   ]
  },
  {
   "cell_type": "code",
   "execution_count": 32,
   "metadata": {},
   "outputs": [
    {
     "data": {
      "text/plain": [
       "array([35.68780047, 35.30102462, 34.68083382, ..., 24.298416  ,\n",
       "       24.09966661, 23.82452082])"
      ]
     },
     "execution_count": 32,
     "metadata": {},
     "output_type": "execute_result"
    }
   ],
   "source": [
    "y_pred = linear_model.predict(x_test)\n",
    "y_pred\n",
    "#prediction from linear regression t find out mean absolute error"
   ]
  },
  {
   "cell_type": "code",
   "execution_count": 33,
   "metadata": {},
   "outputs": [
    {
     "data": {
      "text/plain": [
       "6.832550538736293"
      ]
     },
     "execution_count": 33,
     "metadata": {},
     "output_type": "execute_result"
    }
   ],
   "source": [
    "mean_absolute_error(y_test, y_pred)"
   ]
  },
  {
   "cell_type": "code",
   "execution_count": 34,
   "metadata": {},
   "outputs": [],
   "source": [
    "# now we take plannt 1 and 2 irradiation and compare error \n",
    "x_train, y_train = plant2_W[['MODULE_TEMPERATURE']], plant2_W['IRRADIATION']"
   ]
  },
  {
   "cell_type": "code",
   "execution_count": 35,
   "metadata": {},
   "outputs": [],
   "source": [
    "x_train, y_train = plant1_W[['MODULE_TEMPERATURE']], plant1_W['IRRADIATION']"
   ]
  },
  {
   "cell_type": "code",
   "execution_count": 36,
   "metadata": {},
   "outputs": [
    {
     "data": {
      "text/plain": [
       "LinearRegression()"
      ]
     },
     "execution_count": 36,
     "metadata": {},
     "output_type": "execute_result"
    }
   ],
   "source": [
    "inear_model = LinearRegression()\n",
    "linear_model.fit(x_train, y_train)"
   ]
  },
  {
   "cell_type": "code",
   "execution_count": 37,
   "metadata": {},
   "outputs": [
    {
     "data": {
      "text/plain": [
       "array([0.13190759, 0.12898323, 0.12429406, ..., 0.04579415, 0.04429144,\n",
       "       0.0422111 ])"
      ]
     },
     "execution_count": 37,
     "metadata": {},
     "output_type": "execute_result"
    }
   ],
   "source": [
    "y_pred = linear_model.predict(x_test)\n",
    "y_pred"
   ]
  },
  {
   "cell_type": "code",
   "execution_count": 38,
   "metadata": {},
   "outputs": [
    {
     "data": {
      "text/plain": [
       "32.61538282012105"
      ]
     },
     "execution_count": 38,
     "metadata": {},
     "output_type": "execute_result"
    }
   ],
   "source": [
    "#HIGHER ERROR FOR IRRADIATIONf\n",
    "mean_absolute_error(y_test, y_pred)"
   ]
  },
  {
   "cell_type": "code",
   "execution_count": null,
   "metadata": {},
   "outputs": [],
   "source": []
  },
  {
   "cell_type": "code",
   "execution_count": null,
   "metadata": {},
   "outputs": [],
   "source": []
  },
  {
   "cell_type": "code",
   "execution_count": null,
   "metadata": {},
   "outputs": [],
   "source": []
  },
  {
   "cell_type": "code",
   "execution_count": null,
   "metadata": {},
   "outputs": [],
   "source": []
  }
 ],
 "metadata": {
  "kernelspec": {
   "display_name": "Python 3",
   "language": "python",
   "name": "python3"
  },
  "language_info": {
   "codemirror_mode": {
    "name": "ipython",
    "version": 3
   },
   "file_extension": ".py",
   "mimetype": "text/x-python",
   "name": "python",
   "nbconvert_exporter": "python",
   "pygments_lexer": "ipython3",
   "version": "3.8.3"
  }
 },
 "nbformat": 4,
 "nbformat_minor": 4
}
